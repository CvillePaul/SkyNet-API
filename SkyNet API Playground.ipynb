{
 "cells": [
  {
   "cell_type": "code",
   "execution_count": 1,
   "metadata": {},
   "outputs": [],
   "source": [
    "from datetime import datetime\n",
    "from operator import itemgetter\n",
    "from os import path\n",
    "\n",
    "from astropy.table import Table\n",
    "import numpy as np\n",
    "from skynet.api.v20 import errors\n",
    "from skynet.api.v20.methods import download, groups, obs, scopes"
   ]
  },
  {
   "cell_type": "code",
   "execution_count": 15,
   "metadata": {},
   "outputs": [
    {
     "data": {
      "text/plain": [
       "{'groupId': 816}"
      ]
     },
     "execution_count": 15,
     "metadata": {},
     "output_type": "execute_result"
    }
   ],
   "source": [
    "# define parameters to control the code below\n",
    "\n",
    "data_directory = \"Data\"\n",
    "start_time = \"2024-09-06T00:00:00\" # only download files after this time\n",
    "# start_time = \"2024-08-15 00:00:00\" # only download files after this time\n",
    "observation_criteria = {\"groupId\": groups.get(\"Majewski Research Group\")[\"id\"]}\n",
    "exposure_criteria = observation_criteria\n",
    "\n",
    "# scope_id = scopes.query(include=\"*\", **{\"name\": \"RRRT\"})[0][\"id\"]\n",
    "\n",
    "observation_criteria"
   ]
  },
  {
   "cell_type": "code",
   "execution_count": 16,
   "metadata": {},
   "outputs": [
    {
     "data": {
      "text/html": [
       "<div><i>Table length=4</i>\n",
       "<table id=\"table2651901071184\" class=\"table-striped table-bordered table-condensed\">\n",
       "<thead><tr><th>Observation ID</th><th>Observation state</th><th>Priority</th><th>Target Name</th><th>Username</th><th>Group</th><th>RA</th><th>Dec</th><th>Telescope</th><th>Scope Owner</th><th>Submitted</th></tr></thead>\n",
       "<thead><tr><th>int32</th><th>str9</th><th>int32</th><th>str13</th><th>str7</th><th>str23</th><th>float64</th><th>float64</th><th>str4</th><th>str3</th><th>str19</th></tr></thead>\n",
       "<tr><td>11636835</td><td>canceled</td><td>1</td><td>tic 278465736</td><td>gnh3pgz</td><td>Majewski Research Group</td><td>21.65336111111111</td><td>51.34663888888889</td><td></td><td>UVA</td><td>2024-09-06T00:52:37</td></tr>\n",
       "<tr><td>11636836</td><td>canceled</td><td>3</td><td>tic 278465736</td><td>gnh3pgz</td><td>Majewski Research Group</td><td>21.65336111111111</td><td>51.34663888888889</td><td></td><td>UVA</td><td>2024-09-06T00:56:21</td></tr>\n",
       "<tr><td>11636838</td><td>completed</td><td>4</td><td>tic278465736</td><td>gnh3pgz</td><td>Majewski Research Group</td><td>21.65336111111111</td><td>51.34663888888889</td><td>RRRT</td><td>UVA</td><td>2024-09-06T01:02:26</td></tr>\n",
       "<tr><td>11636840</td><td>completed</td><td>1</td><td>tic 278465736</td><td>gnh3pgz</td><td>Majewski Research Group</td><td>21.65336111111111</td><td>51.34663888888889</td><td>RRRT</td><td>UVA</td><td>2024-09-06T01:06:47</td></tr>\n",
       "</table></div>"
      ],
      "text/plain": [
       "<Table length=4>\n",
       "Observation ID Observation state Priority ... Scope Owner      Submitted     \n",
       "    int32             str9        int32   ...     str3           str19       \n",
       "-------------- ----------------- -------- ... ----------- -------------------\n",
       "      11636835          canceled        1 ...         UVA 2024-09-06T00:52:37\n",
       "      11636836          canceled        3 ...         UVA 2024-09-06T00:56:21\n",
       "      11636838         completed        4 ...         UVA 2024-09-06T01:02:26\n",
       "      11636840         completed        1 ...         UVA 2024-09-06T01:06:47"
      ]
     },
     "execution_count": 16,
     "metadata": {},
     "output_type": "execute_result"
    }
   ],
   "source": [
    "# retrieve list of observations happening after start_time and meeting observation_criteria\n",
    "# write to csv just in case it's useful\n",
    "\n",
    "observation_fields = {\n",
    "    \"id\": \"Observation ID\",\n",
    "    \"state\": \"Observation state\",\n",
    "    \"priority\": \"Priority\",\n",
    "    \"name\": \"Target Name\",\n",
    "    \"user.username\": \"Username\",\n",
    "    \"group.name\": \"Group\",\n",
    "    \"raHours\": \"RA\",\n",
    "    \"decDegs\": \"Dec\",\n",
    "    \"currentTelescope.name\": \"Telescope\",\n",
    "    \"teleOwner.name\": \"Scope Owner\",\n",
    "    \"timeIn\": \"Submitted\",\n",
    "}\n",
    "\n",
    "observation_results = obs.query(include=\",\".join(observation_fields.keys()), after=start_time, **observation_criteria)\n",
    "\n",
    "observations = Table()\n",
    "for field, col_name in observation_fields.items():\n",
    "    field_parts = field.split(\".\")\n",
    "    match len(field_parts):\n",
    "        case 1:\n",
    "            observations[col_name] = list(map(itemgetter(field), observation_results))\n",
    "        case 2:\n",
    "            field_dicts = list(map(itemgetter(field_parts[0]), observation_results))\n",
    "            observations[col_name] = [field_dict[field_parts[1]] if field_dict is not None else \"\" for field_dict in field_dicts]\n",
    "observations.write(\"skynet_observations.csv\", overwrite=True)\n",
    "\n",
    "observations"
   ]
  },
  {
   "cell_type": "code",
   "execution_count": 17,
   "metadata": {},
   "outputs": [
    {
     "data": {
      "text/html": [
       "<div><i>Table length=2009</i>\n",
       "<table id=\"table2651894545824\" class=\"table-striped table-bordered table-condensed\">\n",
       "<thead><tr><th>Observation ID</th><th>Exposure Num</th><th>Image ID</th><th>Name</th><th>Type</th><th>Filter Name</th><th>Time Taken</th><th>Image State</th><th>Exposure</th><th>Binning</th><th>Gain</th><th>Camera</th></tr></thead>\n",
       "<thead><tr><th>int32</th><th>int32</th><th>str9</th><th>str13</th><th>str5</th><th>str1</th><th>object</th><th>str8</th><th>object</th><th>int32</th><th>object</th><th>str40</th></tr></thead>\n",
       "<tr><td>11636835</td><td>0</td><td>r43942062</td><td>tic 278465736</td><td>light</td><td>V</td><td>None</td><td>canceled</td><td>None</td><td>1</td><td>None</td><td></td></tr>\n",
       "<tr><td>11636835</td><td>1</td><td>r43942063</td><td>tic 278465736</td><td>light</td><td>V</td><td>None</td><td>canceled</td><td>None</td><td>1</td><td>None</td><td></td></tr>\n",
       "<tr><td>11636835</td><td>2</td><td>r43942064</td><td>tic 278465736</td><td>light</td><td>V</td><td>None</td><td>canceled</td><td>None</td><td>1</td><td>None</td><td></td></tr>\n",
       "<tr><td>11636836</td><td>0</td><td>r43942065</td><td>tic 278465736</td><td>light</td><td>V</td><td>None</td><td>canceled</td><td>None</td><td>1</td><td>None</td><td></td></tr>\n",
       "<tr><td>11636836</td><td>1</td><td>r43942066</td><td>tic 278465736</td><td>light</td><td>V</td><td>None</td><td>canceled</td><td>None</td><td>1</td><td>None</td><td></td></tr>\n",
       "<tr><td>11636836</td><td>2</td><td>r43942067</td><td>tic 278465736</td><td>light</td><td>V</td><td>None</td><td>canceled</td><td>None</td><td>1</td><td>None</td><td></td></tr>\n",
       "<tr><td>11636838</td><td>0</td><td>r43942069</td><td>tic278465736</td><td>light</td><td>V</td><td>2024-09-06T01:03:16</td><td>archived</td><td>10.0</td><td>2</td><td>1.31791</td><td>UVA SBIG STX-16803 with FLI Filter Wheel</td></tr>\n",
       "<tr><td>11636838</td><td>1</td><td>r43942070</td><td>tic278465736</td><td>light</td><td>V</td><td>2024-09-06T01:03:34</td><td>archived</td><td>12.0</td><td>2</td><td>1.31791</td><td>UVA SBIG STX-16803 with FLI Filter Wheel</td></tr>\n",
       "<tr><td>11636838</td><td>2</td><td>r43942071</td><td>tic278465736</td><td>light</td><td>V</td><td>2024-09-06T01:03:53</td><td>archived</td><td>15.0</td><td>2</td><td>1.31791</td><td>UVA SBIG STX-16803 with FLI Filter Wheel</td></tr>\n",
       "<tr><td>11636840</td><td>0</td><td>r43942073</td><td>tic 278465736</td><td>light</td><td>V</td><td>2024-09-06T01:07:23</td><td>archived</td><td>10.0</td><td>2</td><td>1.31791</td><td>UVA SBIG STX-16803 with FLI Filter Wheel</td></tr>\n",
       "<tr><td>...</td><td>...</td><td>...</td><td>...</td><td>...</td><td>...</td><td>...</td><td>...</td><td>...</td><td>...</td><td>...</td><td>...</td></tr>\n",
       "<tr><td>11636840</td><td>1990</td><td>r43944063</td><td>tic 278465736</td><td>light</td><td>V</td><td>2024-09-07T02:30:48</td><td>archived</td><td>10.0</td><td>2</td><td>1.30984</td><td>UVA SBIG STX-16803 with FLI Filter Wheel</td></tr>\n",
       "<tr><td>11636840</td><td>1991</td><td>r43944064</td><td>tic 278465736</td><td>light</td><td>V</td><td>2024-09-07T02:31:06</td><td>archived</td><td>10.0</td><td>2</td><td>1.30984</td><td>UVA SBIG STX-16803 with FLI Filter Wheel</td></tr>\n",
       "<tr><td>11636840</td><td>1992</td><td>r43944065</td><td>tic 278465736</td><td>light</td><td>V</td><td>2024-09-07T02:31:24</td><td>archived</td><td>10.0</td><td>2</td><td>1.30984</td><td>UVA SBIG STX-16803 with FLI Filter Wheel</td></tr>\n",
       "<tr><td>11636840</td><td>1993</td><td>r43944066</td><td>tic 278465736</td><td>light</td><td>V</td><td>2024-09-07T02:31:41</td><td>archived</td><td>10.0</td><td>2</td><td>1.30984</td><td>UVA SBIG STX-16803 with FLI Filter Wheel</td></tr>\n",
       "<tr><td>11636840</td><td>1994</td><td>r43944067</td><td>tic 278465736</td><td>light</td><td>V</td><td>2024-09-07T02:32:00</td><td>archived</td><td>10.0</td><td>2</td><td>1.30984</td><td>UVA SBIG STX-16803 with FLI Filter Wheel</td></tr>\n",
       "<tr><td>11636840</td><td>1995</td><td>r43944068</td><td>tic 278465736</td><td>light</td><td>V</td><td>2024-09-07T02:32:18</td><td>archived</td><td>10.0</td><td>2</td><td>1.30984</td><td>UVA SBIG STX-16803 with FLI Filter Wheel</td></tr>\n",
       "<tr><td>11636840</td><td>1996</td><td>r43944069</td><td>tic 278465736</td><td>light</td><td>V</td><td>2024-09-07T02:32:36</td><td>archived</td><td>10.0</td><td>2</td><td>1.30984</td><td>UVA SBIG STX-16803 with FLI Filter Wheel</td></tr>\n",
       "<tr><td>11636840</td><td>1997</td><td>r43944070</td><td>tic 278465736</td><td>light</td><td>V</td><td>2024-09-07T02:32:54</td><td>archived</td><td>10.0</td><td>2</td><td>1.30984</td><td>UVA SBIG STX-16803 with FLI Filter Wheel</td></tr>\n",
       "<tr><td>11636840</td><td>1998</td><td>r43944071</td><td>tic 278465736</td><td>light</td><td>V</td><td>2024-09-07T02:33:12</td><td>archived</td><td>10.0</td><td>2</td><td>1.30984</td><td>UVA SBIG STX-16803 with FLI Filter Wheel</td></tr>\n",
       "<tr><td>11636840</td><td>1999</td><td>r43944072</td><td>tic 278465736</td><td>light</td><td>V</td><td>2024-09-07T02:33:30</td><td>archived</td><td>10.0</td><td>2</td><td>1.30984</td><td>UVA SBIG STX-16803 with FLI Filter Wheel</td></tr>\n",
       "</table></div>"
      ],
      "text/plain": [
       "<Table length=2009>\n",
       "Observation ID Exposure Num ...   Gain                   Camera                 \n",
       "    int32         int32     ...  object                  str40                  \n",
       "-------------- ------------ ... ------- ----------------------------------------\n",
       "      11636835            0 ...    None                                         \n",
       "      11636835            1 ...    None                                         \n",
       "      11636835            2 ...    None                                         \n",
       "      11636836            0 ...    None                                         \n",
       "      11636836            1 ...    None                                         \n",
       "      11636836            2 ...    None                                         \n",
       "      11636838            0 ... 1.31791 UVA SBIG STX-16803 with FLI Filter Wheel\n",
       "      11636838            1 ... 1.31791 UVA SBIG STX-16803 with FLI Filter Wheel\n",
       "      11636838            2 ... 1.31791 UVA SBIG STX-16803 with FLI Filter Wheel\n",
       "      11636840            0 ... 1.31791 UVA SBIG STX-16803 with FLI Filter Wheel\n",
       "           ...          ... ...     ...                                      ...\n",
       "      11636840         1990 ... 1.30984 UVA SBIG STX-16803 with FLI Filter Wheel\n",
       "      11636840         1991 ... 1.30984 UVA SBIG STX-16803 with FLI Filter Wheel\n",
       "      11636840         1992 ... 1.30984 UVA SBIG STX-16803 with FLI Filter Wheel\n",
       "      11636840         1993 ... 1.30984 UVA SBIG STX-16803 with FLI Filter Wheel\n",
       "      11636840         1994 ... 1.30984 UVA SBIG STX-16803 with FLI Filter Wheel\n",
       "      11636840         1995 ... 1.30984 UVA SBIG STX-16803 with FLI Filter Wheel\n",
       "      11636840         1996 ... 1.30984 UVA SBIG STX-16803 with FLI Filter Wheel\n",
       "      11636840         1997 ... 1.30984 UVA SBIG STX-16803 with FLI Filter Wheel\n",
       "      11636840         1998 ... 1.30984 UVA SBIG STX-16803 with FLI Filter Wheel\n",
       "      11636840         1999 ... 1.30984 UVA SBIG STX-16803 with FLI Filter Wheel"
      ]
     },
     "execution_count": 17,
     "metadata": {},
     "output_type": "execute_result"
    }
   ],
   "source": [
    "# retrieve list of images happening after start_time and meeting exposure_criteria\n",
    "# write to csv just in case it's useful\n",
    "\n",
    "exposure_fields = {\n",
    "    \"exps.obsId\": \"Observation ID\",\n",
    "    \"exps.expNum\": \"Exposure Num\",\n",
    "    \"exps.imageId\": \"Image ID\",\n",
    "    \"exps.obs.name\": \"Name\",\n",
    "    \"exps.type\": \"Type\",\n",
    "    \"exps.filterName\": \"Filter Name\",\n",
    "    \"exps.timeTaken\": \"Time Taken\",\n",
    "    \"exps.state\": \"Image State\",\n",
    "    \"exps.expLengthUsed\": \"Exposure\",\n",
    "    \"exps.binningUsed\": \"Binning\",\n",
    "    \"exps.gain\": \"Gain\",\n",
    "    \"exps.camera.name\": \"Camera\",\n",
    "}\n",
    "\n",
    "exposure_results = obs.query(include=\",\".join(exposure_fields.keys()), after=start_time, **exposure_criteria)\n",
    "\n",
    "exp_structs = [image for result in exposure_results for image in result[\"exps\"]]\n",
    "images = Table()\n",
    "for field, col_name in exposure_fields.items():\n",
    "    field_parts = field.split(\".\")\n",
    "    match len(field_parts):\n",
    "        case 2:\n",
    "            images[col_name] = list(map(itemgetter(field_parts[1]), exp_structs))\n",
    "        case 3:\n",
    "            field_dicts = list(map(itemgetter(field_parts[1]), exp_structs))\n",
    "            images[col_name] = [field_dict[field_parts[2]] if field_dict is not None else \"\" for field_dict in field_dicts]\n",
    "images.write(\"skynet_images.csv\", overwrite=True)\n",
    "\n",
    "images"
   ]
  },
  {
   "cell_type": "code",
   "execution_count": 31,
   "metadata": {},
   "outputs": [
    {
     "name": "stdout",
     "output_type": "stream",
     "text": [
      "Downloading observation   11636835\n",
      "  Downloading part 1...   skipped part 1- got bad request\n",
      "Downloading observation   11636836\n",
      "  Downloading part 1...   skipped part 1- got bad request\n",
      "Downloading observation   11636838\n",
      "  Downloading part 1... got    12.3MB at 32.89Mbps saved to Data/11636838-tic278465736.zip\n",
      "Downloading observation   11636840\n",
      "  Downloading part 1... got  2727.1MB at 65.91Mbps saved to Data/11636840-tic_278465736_1.zip\n",
      "  Downloading part 2... got  2727.6MB at 32.18Mbps saved to Data/11636840-tic_278465736_2.zip\n",
      "  Downloading part 3... got  2723.4MB at 21.83Mbps saved to Data/11636840-tic_278465736_3.zip\n",
      "---Downloads Complete---\n"
     ]
    }
   ],
   "source": [
    "# do the actual download of the identified files\n",
    "# skip files that already exist\n",
    "\n",
    "def download_file_part(data_directory, obs_id, target, num_parts, part_num):\n",
    "    if num_parts > 1:\n",
    "        filename = f\"{data_directory}/{obs_id}-{target}_{part_num}.zip\"\n",
    "    else:\n",
    "        filename = f\"{data_directory}/{obs_id}-{target}.zip\"\n",
    "    if path.isfile(filename):\n",
    "        print(f\"  File {filename} already downloaded\")\n",
    "        return\n",
    "    print(f\"  Downloading part {part_num}...\", end=\" \")\n",
    "    _, data = download.fits(**{\"obs\": obs_id}, total_parts=num_parts, part=part_num)\n",
    "    filesize = len(data)\n",
    "    duration = datetime.now() - start\n",
    "    if filesize > 0:\n",
    "        with open(filename, \"wb\") as f:\n",
    "            f.write(data)\n",
    "        print(f\"got {filesize/1024/1024:7.1f}MB at {filesize / duration.seconds * 8 / 1024 / 1024:5.2f}Mbps saved to {filename}\")\n",
    "\n",
    "for observation in observations:\n",
    "    obs_id = observation[observation_fields[\"id\"]]\n",
    "    target = observation[observation_fields[\"name\"]].strip().replace(\" \", \"_\")\n",
    "    print(f\"Downloading observation {obs_id:10d}\")\n",
    "    start = datetime.now()\n",
    "    num_images = len(images[images[\"Observation ID\"] == obs_id])\n",
    "    num_parts = num_images // 1000 + 1\n",
    "    for part_num in range(1, num_parts + 1):\n",
    "        try:\n",
    "            download_file_part(data_directory, obs_id, target, num_parts, part_num)\n",
    "        except errors.BadRequestError:\n",
    "            print(f\"  skipped part {part_num}- got bad request\")\n",
    "            continue\n",
    "print(\"---Downloads Complete---\")"
   ]
  },
  {
   "cell_type": "code",
   "execution_count": 28,
   "metadata": {},
   "outputs": [
    {
     "data": {
      "text/plain": [
       "[1, 2]"
      ]
     },
     "execution_count": 28,
     "metadata": {},
     "output_type": "execute_result"
    }
   ],
   "source": [
    "num_images = 1008\n",
    "num_parts = num_images // 1000 + 1\n",
    "list(range(1, num_parts+1))"
   ]
  }
 ],
 "metadata": {
  "kernelspec": {
   "display_name": "Astro",
   "language": "python",
   "name": "python3"
  },
  "language_info": {
   "codemirror_mode": {
    "name": "ipython",
    "version": 3
   },
   "file_extension": ".py",
   "mimetype": "text/x-python",
   "name": "python",
   "nbconvert_exporter": "python",
   "pygments_lexer": "ipython3",
   "version": "3.12.2"
  }
 },
 "nbformat": 4,
 "nbformat_minor": 2
}
