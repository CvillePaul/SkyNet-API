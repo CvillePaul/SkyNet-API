{
 "cells": [
  {
   "cell_type": "code",
   "execution_count": 2,
   "metadata": {},
   "outputs": [],
   "source": [
    "from datetime import datetime\n",
    "from operator import itemgetter\n",
    "from os import path\n",
    "\n",
    "from astropy.table import Table\n",
    "import numpy as np\n",
    "from skynet.api.v20 import errors\n",
    "from skynet.api.v20.methods import download, groups, obs, scopes"
   ]
  },
  {
   "cell_type": "code",
   "execution_count": 5,
   "metadata": {},
   "outputs": [
    {
     "data": {
      "text/plain": [
       "{'groupId': 816}"
      ]
     },
     "execution_count": 5,
     "metadata": {},
     "output_type": "execute_result"
    }
   ],
   "source": [
    "# define parameters to control the code below\n",
    "\n",
    "data_directory = \"Data\"\n",
    "start_time = \"2024-08-26T21:10:00\" # only download files after this time\n",
    "# start_time = \"2024-08-15 00:00:00\" # only download files after this time\n",
    "observation_criteria = {\"groupId\": groups.get(\"Majewski Research Group\")[\"id\"]}\n",
    "exposure_criteria = observation_criteria\n",
    "\n",
    "# scope_id = scopes.query(include=\"*\", **{\"name\": \"RRRT\"})[0][\"id\"]\n",
    "\n",
    "observation_criteria"
   ]
  },
  {
   "cell_type": "code",
   "execution_count": 6,
   "metadata": {},
   "outputs": [
    {
     "data": {
      "text/html": [
       "<div><i>Table length=2</i>\n",
       "<table id=\"table2056272484912\" class=\"table-striped table-bordered table-condensed\">\n",
       "<thead><tr><th>Observation ID</th><th>Observation state</th><th>Priority</th><th>Target Name</th><th>Username</th><th>Group</th><th>RA</th><th>Dec</th><th>Telescope</th><th>Scope Owner</th><th>Submitted</th></tr></thead>\n",
       "<thead><tr><th>int32</th><th>str8</th><th>int32</th><th>str13</th><th>str7</th><th>str23</th><th>float64</th><th>float64</th><th>str1</th><th>str3</th><th>str19</th></tr></thead>\n",
       "<tr><td>11601694</td><td>canceled</td><td>6</td><td>tic 278465736</td><td>gnh3pgz</td><td>Majewski Research Group</td><td>21.65336111111111</td><td>51.34663888888889</td><td></td><td>UVA</td><td>2024-08-26T21:14:18</td></tr>\n",
       "<tr><td>11608344</td><td>active</td><td>4</td><td>tic 344541836</td><td>gnh3pgz</td><td>Majewski Research Group</td><td>21.19002777777778</td><td>57.62038888888889</td><td></td><td>UVA</td><td>2024-08-28T17:47:17</td></tr>\n",
       "</table></div>"
      ],
      "text/plain": [
       "<Table length=2>\n",
       "Observation ID Observation state Priority ... Scope Owner      Submitted     \n",
       "    int32             str8        int32   ...     str3           str19       \n",
       "-------------- ----------------- -------- ... ----------- -------------------\n",
       "      11601694          canceled        6 ...         UVA 2024-08-26T21:14:18\n",
       "      11608344            active        4 ...         UVA 2024-08-28T17:47:17"
      ]
     },
     "execution_count": 6,
     "metadata": {},
     "output_type": "execute_result"
    }
   ],
   "source": [
    "# retrieve list of observations happening after start_time and meeting observation_criteria\n",
    "# write to csv just in case it's useful\n",
    "\n",
    "observation_fields = {\n",
    "    \"id\": \"Observation ID\",\n",
    "    \"state\": \"Observation state\",\n",
    "    \"priority\": \"Priority\",\n",
    "    \"name\": \"Target Name\",\n",
    "    \"user.username\": \"Username\",\n",
    "    \"group.name\": \"Group\",\n",
    "    \"raHours\": \"RA\",\n",
    "    \"decDegs\": \"Dec\",\n",
    "    \"currentTelescope.name\": \"Telescope\",\n",
    "    \"teleOwner.name\": \"Scope Owner\",\n",
    "    \"timeIn\": \"Submitted\",\n",
    "}\n",
    "\n",
    "observation_results = obs.query(include=\",\".join(observation_fields.keys()), after=start_time, **observation_criteria)\n",
    "\n",
    "observations = Table()\n",
    "for field, col_name in observation_fields.items():\n",
    "    field_parts = field.split(\".\")\n",
    "    match len(field_parts):\n",
    "        case 1:\n",
    "            observations[col_name] = list(map(itemgetter(field), observation_results))\n",
    "        case 2:\n",
    "            field_dicts = list(map(itemgetter(field_parts[0]), observation_results))\n",
    "            observations[col_name] = [field_dict[field_parts[1]] if field_dict is not None else \"\" for field_dict in field_dicts]\n",
    "observations.write(\"skynet_observations.csv\", overwrite=True)\n",
    "\n",
    "observations"
   ]
  },
  {
   "cell_type": "code",
   "execution_count": 7,
   "metadata": {},
   "outputs": [
    {
     "data": {
      "text/html": [
       "<div><i>Table length=5000</i>\n",
       "<table id=\"table2056278404384\" class=\"table-striped table-bordered table-condensed\">\n",
       "<thead><tr><th>Observation ID</th><th>Exposure Num</th><th>Image ID</th><th>Name</th><th>Type</th><th>Filter Name</th><th>Time Taken</th><th>Image State</th><th>Exposure</th><th>Binning</th><th>Gain</th><th>Camera</th></tr></thead>\n",
       "<thead><tr><th>int32</th><th>int32</th><th>str9</th><th>str13</th><th>str5</th><th>str1</th><th>object</th><th>str8</th><th>object</th><th>int32</th><th>object</th><th>str40</th></tr></thead>\n",
       "<tr><td>11601694</td><td>0</td><td>r43810130</td><td>tic 278465736</td><td>light</td><td>V</td><td>2024-08-28T08:48:53</td><td>archived</td><td>10.0</td><td>2</td><td>1.32256</td><td>UVA SBIG STX-16803 with FLI Filter Wheel</td></tr>\n",
       "<tr><td>11601694</td><td>1</td><td>r43810131</td><td>tic 278465736</td><td>light</td><td>V</td><td>2024-08-28T08:49:11</td><td>archived</td><td>10.0</td><td>2</td><td>1.32256</td><td>UVA SBIG STX-16803 with FLI Filter Wheel</td></tr>\n",
       "<tr><td>11601694</td><td>2</td><td>r43810132</td><td>tic 278465736</td><td>light</td><td>V</td><td>2024-08-28T08:49:29</td><td>archived</td><td>10.0</td><td>2</td><td>1.32256</td><td>UVA SBIG STX-16803 with FLI Filter Wheel</td></tr>\n",
       "<tr><td>11601694</td><td>3</td><td>r43810133</td><td>tic 278465736</td><td>light</td><td>V</td><td>2024-08-28T08:49:47</td><td>archived</td><td>10.0</td><td>2</td><td>1.32256</td><td>UVA SBIG STX-16803 with FLI Filter Wheel</td></tr>\n",
       "<tr><td>11601694</td><td>4</td><td>r43810134</td><td>tic 278465736</td><td>light</td><td>V</td><td>2024-08-28T08:50:05</td><td>archived</td><td>10.0</td><td>2</td><td>1.32256</td><td>UVA SBIG STX-16803 with FLI Filter Wheel</td></tr>\n",
       "<tr><td>11601694</td><td>5</td><td>r43810135</td><td>tic 278465736</td><td>light</td><td>V</td><td>2024-08-28T08:50:24</td><td>archived</td><td>10.0</td><td>2</td><td>1.32256</td><td>UVA SBIG STX-16803 with FLI Filter Wheel</td></tr>\n",
       "<tr><td>11601694</td><td>6</td><td>r43810136</td><td>tic 278465736</td><td>light</td><td>V</td><td>2024-08-28T08:50:41</td><td>archived</td><td>10.0</td><td>2</td><td>1.32256</td><td>UVA SBIG STX-16803 with FLI Filter Wheel</td></tr>\n",
       "<tr><td>11601694</td><td>7</td><td>r43810137</td><td>tic 278465736</td><td>light</td><td>V</td><td>2024-08-28T08:51:00</td><td>archived</td><td>10.0</td><td>2</td><td>1.32256</td><td>UVA SBIG STX-16803 with FLI Filter Wheel</td></tr>\n",
       "<tr><td>11601694</td><td>8</td><td>r43810138</td><td>tic 278465736</td><td>light</td><td>V</td><td>2024-08-28T08:51:18</td><td>archived</td><td>10.0</td><td>2</td><td>1.32256</td><td>UVA SBIG STX-16803 with FLI Filter Wheel</td></tr>\n",
       "<tr><td>11601694</td><td>9</td><td>r43810139</td><td>tic 278465736</td><td>light</td><td>V</td><td>2024-08-28T08:51:36</td><td>archived</td><td>10.0</td><td>2</td><td>1.32256</td><td>UVA SBIG STX-16803 with FLI Filter Wheel</td></tr>\n",
       "<tr><td>...</td><td>...</td><td>...</td><td>...</td><td>...</td><td>...</td><td>...</td><td>...</td><td>...</td><td>...</td><td>...</td><td>...</td></tr>\n",
       "<tr><td>11608344</td><td>2990</td><td>r43829332</td><td>tic 344541836</td><td>light</td><td>V</td><td>None</td><td>ready</td><td>None</td><td>1</td><td>None</td><td></td></tr>\n",
       "<tr><td>11608344</td><td>2991</td><td>r43829333</td><td>tic 344541836</td><td>light</td><td>V</td><td>None</td><td>ready</td><td>None</td><td>1</td><td>None</td><td></td></tr>\n",
       "<tr><td>11608344</td><td>2992</td><td>r43829334</td><td>tic 344541836</td><td>light</td><td>V</td><td>None</td><td>ready</td><td>None</td><td>1</td><td>None</td><td></td></tr>\n",
       "<tr><td>11608344</td><td>2993</td><td>r43829335</td><td>tic 344541836</td><td>light</td><td>V</td><td>None</td><td>ready</td><td>None</td><td>1</td><td>None</td><td></td></tr>\n",
       "<tr><td>11608344</td><td>2994</td><td>r43829336</td><td>tic 344541836</td><td>light</td><td>V</td><td>None</td><td>ready</td><td>None</td><td>1</td><td>None</td><td></td></tr>\n",
       "<tr><td>11608344</td><td>2995</td><td>r43829337</td><td>tic 344541836</td><td>light</td><td>V</td><td>None</td><td>ready</td><td>None</td><td>1</td><td>None</td><td></td></tr>\n",
       "<tr><td>11608344</td><td>2996</td><td>r43829338</td><td>tic 344541836</td><td>light</td><td>V</td><td>None</td><td>ready</td><td>None</td><td>1</td><td>None</td><td></td></tr>\n",
       "<tr><td>11608344</td><td>2997</td><td>r43829339</td><td>tic 344541836</td><td>light</td><td>V</td><td>None</td><td>ready</td><td>None</td><td>1</td><td>None</td><td></td></tr>\n",
       "<tr><td>11608344</td><td>2998</td><td>r43829340</td><td>tic 344541836</td><td>light</td><td>V</td><td>None</td><td>ready</td><td>None</td><td>1</td><td>None</td><td></td></tr>\n",
       "<tr><td>11608344</td><td>2999</td><td>r43829341</td><td>tic 344541836</td><td>light</td><td>V</td><td>None</td><td>ready</td><td>None</td><td>1</td><td>None</td><td></td></tr>\n",
       "</table></div>"
      ],
      "text/plain": [
       "<Table length=5000>\n",
       "Observation ID Exposure Num ...   Gain                   Camera                 \n",
       "    int32         int32     ...  object                  str40                  \n",
       "-------------- ------------ ... ------- ----------------------------------------\n",
       "      11601694            0 ... 1.32256 UVA SBIG STX-16803 with FLI Filter Wheel\n",
       "      11601694            1 ... 1.32256 UVA SBIG STX-16803 with FLI Filter Wheel\n",
       "      11601694            2 ... 1.32256 UVA SBIG STX-16803 with FLI Filter Wheel\n",
       "      11601694            3 ... 1.32256 UVA SBIG STX-16803 with FLI Filter Wheel\n",
       "      11601694            4 ... 1.32256 UVA SBIG STX-16803 with FLI Filter Wheel\n",
       "      11601694            5 ... 1.32256 UVA SBIG STX-16803 with FLI Filter Wheel\n",
       "      11601694            6 ... 1.32256 UVA SBIG STX-16803 with FLI Filter Wheel\n",
       "      11601694            7 ... 1.32256 UVA SBIG STX-16803 with FLI Filter Wheel\n",
       "      11601694            8 ... 1.32256 UVA SBIG STX-16803 with FLI Filter Wheel\n",
       "      11601694            9 ... 1.32256 UVA SBIG STX-16803 with FLI Filter Wheel\n",
       "           ...          ... ...     ...                                      ...\n",
       "      11608344         2990 ...    None                                         \n",
       "      11608344         2991 ...    None                                         \n",
       "      11608344         2992 ...    None                                         \n",
       "      11608344         2993 ...    None                                         \n",
       "      11608344         2994 ...    None                                         \n",
       "      11608344         2995 ...    None                                         \n",
       "      11608344         2996 ...    None                                         \n",
       "      11608344         2997 ...    None                                         \n",
       "      11608344         2998 ...    None                                         \n",
       "      11608344         2999 ...    None                                         "
      ]
     },
     "execution_count": 7,
     "metadata": {},
     "output_type": "execute_result"
    }
   ],
   "source": [
    "# retrieve list of images happening after start_time and meeting exposure_criteria\n",
    "# write to csv just in case it's useful\n",
    "\n",
    "exposure_fields = {\n",
    "    \"exps.obsId\": \"Observation ID\",\n",
    "    \"exps.expNum\": \"Exposure Num\",\n",
    "    \"exps.imageId\": \"Image ID\",\n",
    "    \"exps.obs.name\": \"Name\",\n",
    "    \"exps.type\": \"Type\",\n",
    "    \"exps.filterName\": \"Filter Name\",\n",
    "    \"exps.timeTaken\": \"Time Taken\",\n",
    "    \"exps.state\": \"Image State\",\n",
    "    \"exps.expLengthUsed\": \"Exposure\",\n",
    "    \"exps.binningUsed\": \"Binning\",\n",
    "    \"exps.gain\": \"Gain\",\n",
    "    \"exps.camera.name\": \"Camera\",\n",
    "}\n",
    "\n",
    "exposure_results = obs.query(include=\",\".join(exposure_fields.keys()), after=start_time, **exposure_criteria)\n",
    "\n",
    "exp_structs = [image for result in exposure_results for image in result[\"exps\"]]\n",
    "images = Table()\n",
    "for field, col_name in exposure_fields.items():\n",
    "    field_parts = field.split(\".\")\n",
    "    match len(field_parts):\n",
    "        case 2:\n",
    "            images[col_name] = list(map(itemgetter(field_parts[1]), exp_structs))\n",
    "        case 3:\n",
    "            field_dicts = list(map(itemgetter(field_parts[1]), exp_structs))\n",
    "            images[col_name] = [field_dict[field_parts[2]] if field_dict is not None else \"\" for field_dict in field_dicts]\n",
    "images.write(\"skynet_images.csv\", overwrite=True)\n",
    "\n",
    "images"
   ]
  },
  {
   "cell_type": "code",
   "execution_count": 8,
   "metadata": {},
   "outputs": [
    {
     "name": "stdout",
     "output_type": "stream",
     "text": [
      "Observation   11601694 already downloaded\n",
      "Downloading observation   11608344... skipped - got bad request\n",
      "---Download Complete---\n"
     ]
    }
   ],
   "source": [
    "# do the actual download of the identified files\n",
    "# skip files that already exist\n",
    "\n",
    "for observation in observations:\n",
    "    obs_id = observation[observation_fields[\"id\"]]\n",
    "    target = observation[observation_fields[\"name\"]].strip().replace(\" \", \"_\")\n",
    "    filename = f\"{data_directory}/{obs_id}-{target}.zip\"\n",
    "    if path.isfile(filename):\n",
    "        print(f\"Observation {obs_id:10d} already downloaded\")\n",
    "        continue\n",
    "    print(f\"Downloading observation {obs_id:10d}...\", end=\" \")\n",
    "    start = datetime.now()\n",
    "    try:\n",
    "        _, data = download.fits(**{\"obs\": obs_id})\n",
    "    except errors.BadRequestError:\n",
    "        print(\"skipped - got bad request\")\n",
    "        continue\n",
    "    filesize = len(data)\n",
    "    duration = datetime.now() - start\n",
    "    if filesize > 0:\n",
    "        with open(filename, \"wb\") as f:\n",
    "            f.write(data)\n",
    "        print(f\"got {filesize/1024/1024:7.1f}MB at {filesize / duration.seconds * 8 / 1024 / 1024:5.2f}Mbps saved to {filename}\")\n",
    "print(\"---Download Complete---\")"
   ]
  }
 ],
 "metadata": {
  "kernelspec": {
   "display_name": "Astro",
   "language": "python",
   "name": "python3"
  },
  "language_info": {
   "codemirror_mode": {
    "name": "ipython",
    "version": 3
   },
   "file_extension": ".py",
   "mimetype": "text/x-python",
   "name": "python",
   "nbconvert_exporter": "python",
   "pygments_lexer": "ipython3",
   "version": "3.12.2"
  }
 },
 "nbformat": 4,
 "nbformat_minor": 2
}
